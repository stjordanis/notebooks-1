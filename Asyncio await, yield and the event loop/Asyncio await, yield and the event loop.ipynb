{
 "cells": [
  {
   "cell_type": "markdown",
   "metadata": {
    "deletable": true,
    "editable": true
   },
   "source": [
    "# `await`, `yield` and the event loop\n",
    "\n",
    "I was under the impression that every `await` yields control back to\n",
    "the event loop. That is not the case."
   ]
  },
  {
   "cell_type": "code",
   "execution_count": 1,
   "metadata": {
    "collapsed": true,
    "deletable": true,
    "editable": true
   },
   "outputs": [],
   "source": [
    "import asyncio\n",
    "\n",
    "\n",
    "async def foo():\n",
    "    print('Executing foo, sleeping...')\n",
    "    await asyncio.sleep(0)\n",
    "    print('...foo back from sleeping')\n",
    "    return 1\n",
    "\n",
    "\n",
    "async def bar():\n",
    "    print('Executing bar')\n",
    "    print('>> bar calling baz, I expected a context switch to foo, instead...')\n",
    "    baz_result = await baz()\n",
    "    print('<< bar back from calling baz')\n",
    "    return baz_result\n",
    "\n",
    "\n",
    "async def baz():\n",
    "    print('>>> Executing baz, sleeping, the context switch to foo happens now?')\n",
    "    await asyncio.sleep(0)\n",
    "    print('<<< ...baz back from sleeping')\n",
    "    return 2"
   ]
  },
  {
   "cell_type": "code",
   "execution_count": 2,
   "metadata": {
    "collapsed": false,
    "deletable": true,
    "editable": true
   },
   "outputs": [
    {
     "name": "stdout",
     "output_type": "stream",
     "text": [
      "Executing foo, sleeping...\n",
      "Executing bar\n",
      ">> bar calling baz, I expected a context switch to foo, instead...\n",
      ">>> Executing baz, sleeping, the context switch to foo happens now?\n",
      "...foo back from sleeping\n",
      "<<< ...baz back from sleeping\n",
      "<< bar back from calling baz\n",
      "The results are: [1, 2]\n"
     ]
    }
   ],
   "source": [
    "loop = asyncio.get_event_loop()\n",
    "grouped_task = asyncio.gather(foo(), bar())\n",
    "\n",
    "results = loop.run_until_complete(grouped_task)\n",
    "print(\"The results are: {}\".format(results))"
   ]
  },
  {
   "cell_type": "markdown",
   "metadata": {
    "deletable": true,
    "editable": true
   },
   "source": [
    "Awaiting your own coroutines does **not** yield to the loop, but awaiting `asyncio.sleep` and other libraries does.\n",
    "\n",
    "Why are they special?\n",
    "\n",
    "https://snarky.ca/how-the-heck-does-async-await-work-in-python-3-5/ has the answer\n",
    "\n",
    "\"One very key point I want to make about the difference between a generator-based coroutine and an async one is that only generator-based coroutines can actually pause execution and force something to be sent down to the event loop\""
   ]
  },
  {
   "cell_type": "code",
   "execution_count": 3,
   "metadata": {
    "collapsed": false,
    "deletable": true,
    "editable": true
   },
   "outputs": [],
   "source": [
    "async def bar_():\n",
    "    print('Executing bar_')\n",
    "    print('>> bar_ calling baz_, I expected a context switch to foo, and indeed...')\n",
    "    baz_result = await baz_()\n",
    "    print('<< bar_ back from calling baz_')\n",
    "    return baz_result\n",
    "\n",
    "@asyncio.coroutine\n",
    "def baz_():\n",
    "    yield  # yields control to the event loop, there's no equivalent for await\n",
    "    print('>>> Executing baz_, sleeping...')\n",
    "    yield from asyncio.sleep(0)\n",
    "    print('<<< ...baz_ back from sleeping')\n",
    "    return 2"
   ]
  },
  {
   "cell_type": "code",
   "execution_count": 4,
   "metadata": {
    "collapsed": false,
    "deletable": true,
    "editable": true
   },
   "outputs": [
    {
     "name": "stdout",
     "output_type": "stream",
     "text": [
      "Executing bar_\n",
      ">> bar_ calling baz_, I expected a context switch to foo, and indeed...\n",
      "Executing foo, sleeping...\n",
      ">>> Executing baz_, sleeping...\n",
      "...foo back from sleeping\n",
      "<<< ...baz_ back from sleeping\n",
      "<< bar_ back from calling baz_\n",
      "The results are: [1, 2]\n"
     ]
    }
   ],
   "source": [
    "loop = asyncio.get_event_loop()\n",
    "grouped_task = asyncio.gather(foo(), bar_())\n",
    "\n",
    "results = loop.run_until_complete(grouped_task)\n",
    "print(\"The results are: {}\".format(results))"
   ]
  }
 ],
 "metadata": {
  "kernelspec": {
   "display_name": "Python 3",
   "language": "python",
   "name": "python3"
  },
  "language_info": {
   "codemirror_mode": {
    "name": "ipython",
    "version": 3
   },
   "file_extension": ".py",
   "mimetype": "text/x-python",
   "name": "python",
   "nbconvert_exporter": "python",
   "pygments_lexer": "ipython3",
   "version": "3.6.0"
  }
 },
 "nbformat": 4,
 "nbformat_minor": 2
}
