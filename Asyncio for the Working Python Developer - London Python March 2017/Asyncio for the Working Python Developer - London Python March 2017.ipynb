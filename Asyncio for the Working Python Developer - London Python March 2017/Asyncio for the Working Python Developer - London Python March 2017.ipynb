{
 "cells": [
  {
   "cell_type": "code",
   "execution_count": 1,
   "metadata": {
    "collapsed": false,
    "deletable": true,
    "editable": true,
    "slideshow": {
     "slide_type": "skip"
    }
   },
   "outputs": [],
   "source": [
    "# These slides require the RISE plugin for Jupyter -- https://github.com/damianavila/RISE"
   ]
  },
  {
   "cell_type": "markdown",
   "metadata": {
    "deletable": true,
    "editable": true,
    "slideshow": {
     "slide_type": "slide"
    }
   },
   "source": [
    "<h1 style=\"padding-bottom: 1em\">Asyncio for the Working Python Developer</h1>\n",
    "<img src=\"images/Artboard_1.png\" style=\"float: right; margin-top: 0em\" />\n",
    "<h3 style=\"padding-bottom: 4em\">London Python<br/>March 2017</h3>\n",
    "\n",
    "## Yeray Diaz\n",
    "## @yera_ee"
   ]
  },
  {
   "cell_type": "markdown",
   "metadata": {
    "deletable": true,
    "editable": true,
    "slideshow": {
     "slide_type": "slide"
    }
   },
   "source": [
    "# What is asyncio?\n",
    "\n",
    "- A core Python library for concurrent programming introduced in Python 3.4\n",
    "- New **`async`**/**`await`** syntax introduced in [3.5](https://docs.python.org/3/whatsnew/3.5.html#whatsnew-pep-492) and extended in [3.6](https://docs.python.org/3/whatsnew/3.6.html#whatsnew36-pep525)\n",
    "- Inspired by:\n",
    "<div style=\"margin: auto;\">[<img style=\"display: inline\" src=\"images/twisted.png\" width=\"150\" />](https://www.twistedmatrix.com) [<img style=\"display: inline\" src=\"images/tornado.png\" width=\"250\" />](https://www.tornadoweb.org)</div>"
   ]
  },
  {
   "cell_type": "markdown",
   "metadata": {
    "deletable": true,
    "editable": true,
    "slideshow": {
     "slide_type": "slide"
    }
   },
   "source": [
    "## What's NOT asyncio?\n",
    "\n",
    "- Available in Python 2\n",
    "- Job queue\n",
    "- Magic"
   ]
  },
  {
   "cell_type": "markdown",
   "metadata": {
    "deletable": true,
    "editable": true,
    "slideshow": {
     "slide_type": "slide"
    }
   },
   "source": [
    "## When should I use asyncio?\n",
    "\n",
    "- Loads of I/O\n",
    "- High availability services\n",
    "- Full duplex connections"
   ]
  },
  {
   "cell_type": "markdown",
   "metadata": {
    "deletable": true,
    "editable": true,
    "slideshow": {
     "slide_type": "slide"
    }
   },
   "source": [
    "## When should I NOT use asyncio?\n",
    "\n",
    "- CPU bound tasks\n",
    "- Depend on synchronous libraries (like ORMs)\n",
    "- Stuck in Python 2"
   ]
  },
  {
   "cell_type": "markdown",
   "metadata": {
    "deletable": true,
    "editable": true,
    "slideshow": {
     "slide_type": "slide"
    }
   },
   "source": [
    "# Concurrency\n",
    "\n",
    "- Structuring your program into independently runnable elements\n",
    "- Enables **parallelism**\n",
    "    - The executions of these elements at the same time\n",
    "- [*Concurrency is not paralellism, it's better*](https://vimeo.com/49718712) by Rob Pike"
   ]
  },
  {
   "cell_type": "markdown",
   "metadata": {
    "deletable": true,
    "editable": true,
    "slideshow": {
     "slide_type": "subslide"
    }
   },
   "source": [
    "*Asyncio* allows us to define concurrent tasks that can be scheduled to run in parallel."
   ]
  },
  {
   "cell_type": "markdown",
   "metadata": {
    "deletable": true,
    "editable": true,
    "slideshow": {
     "slide_type": "fragment"
    }
   },
   "source": [
    "On a single thread."
   ]
  },
  {
   "cell_type": "markdown",
   "metadata": {
    "deletable": true,
    "editable": true,
    "slideshow": {
     "slide_type": "fragment"
    }
   },
   "source": [
    "<img src=\"images/chris_pratt.gif\" width=\"500\" />"
   ]
  },
  {
   "cell_type": "markdown",
   "metadata": {
    "deletable": true,
    "editable": true,
    "slideshow": {
     "slide_type": "slide"
    }
   },
   "source": [
    "# Structuring for concurrency\n",
    "\n",
    "- **Callbacks**: \"Execute this task, and when you're done execute this other function\""
   ]
  },
  {
   "cell_type": "markdown",
   "metadata": {
    "deletable": true,
    "editable": true,
    "slideshow": {
     "slide_type": "subslide"
    }
   },
   "source": [
    "- **Futures (or Promises)**: \"Execute this task and pretend this object is the result\"\n",
    "    - Readability\n",
    "    - Composability\n",
    "    - Better exception handling\n",
    "    - Task management"
   ]
  },
  {
   "cell_type": "markdown",
   "metadata": {
    "deletable": true,
    "editable": true,
    "slideshow": {
     "slide_type": "subslide"
    }
   },
   "source": [
    "- **Coroutines**: \"Execute this task, when you're done I'll be right here\"\n",
    "    - At explicit points call other coroutines and suspend execution, yielding to other scheduled tasks\n",
    "    - Even more readable, potentially very similar to synchronous code"
   ]
  },
  {
   "cell_type": "markdown",
   "metadata": {
    "deletable": true,
    "editable": true,
    "slideshow": {
     "slide_type": "slide"
    }
   },
   "source": [
    "# Functions vs. Coroutines"
   ]
  },
  {
   "cell_type": "code",
   "execution_count": 3,
   "metadata": {
    "collapsed": false,
    "deletable": true,
    "editable": true,
    "slideshow": {
     "slide_type": "fragment"
    }
   },
   "outputs": [],
   "source": [
    "def my_function():\n",
    "    print('Executing my function')\n",
    "    return 42\n",
    "\n",
    "async def my_coroutine():\n",
    "    print('Executing my coroutine')\n",
    "    return 42"
   ]
  },
  {
   "cell_type": "code",
   "execution_count": 4,
   "metadata": {
    "collapsed": false,
    "deletable": true,
    "editable": true,
    "slideshow": {
     "slide_type": "slide"
    }
   },
   "outputs": [
    {
     "name": "stdout",
     "output_type": "stream",
     "text": [
      "Executing my function\n"
     ]
    }
   ],
   "source": [
    "function_result = my_function()"
   ]
  },
  {
   "cell_type": "code",
   "execution_count": 5,
   "metadata": {
    "collapsed": false,
    "deletable": true,
    "editable": true,
    "slideshow": {
     "slide_type": "fragment"
    }
   },
   "outputs": [
    {
     "name": "stdout",
     "output_type": "stream",
     "text": [
      "42\n"
     ]
    }
   ],
   "source": [
    "print(function_result)"
   ]
  },
  {
   "cell_type": "code",
   "execution_count": 6,
   "metadata": {
    "collapsed": false,
    "deletable": true,
    "editable": true,
    "slideshow": {
     "slide_type": "subslide"
    }
   },
   "outputs": [],
   "source": [
    "coroutine_result = my_coroutine()\n",
    "# no output"
   ]
  },
  {
   "cell_type": "code",
   "execution_count": 7,
   "metadata": {
    "collapsed": false,
    "deletable": true,
    "editable": true,
    "slideshow": {
     "slide_type": "fragment"
    }
   },
   "outputs": [
    {
     "name": "stdout",
     "output_type": "stream",
     "text": [
      "<coroutine object my_coroutine at 0x10cbd0258>\n"
     ]
    }
   ],
   "source": [
    "print(coroutine_result)"
   ]
  },
  {
   "cell_type": "markdown",
   "metadata": {
    "deletable": true,
    "editable": true,
    "slideshow": {
     "slide_type": "subslide"
    }
   },
   "source": [
    "A coroutine object needs to be scheduled for execution, either by:\n",
    "- **`await my_coroutine()`**\n",
    "- or wrapped in a **Task** using **`asyncio.ensure_future`**"
   ]
  },
  {
   "cell_type": "markdown",
   "metadata": {
    "deletable": true,
    "editable": true,
    "slideshow": {
     "slide_type": "fragment"
    }
   },
   "source": [
    "Let's await it then:"
   ]
  },
  {
   "cell_type": "code",
   "execution_count": 8,
   "metadata": {
    "collapsed": false,
    "deletable": true,
    "editable": true,
    "slideshow": {
     "slide_type": "subslide"
    }
   },
   "outputs": [],
   "source": [
    "# await my_coroutine()  --> SyntaxError"
   ]
  },
  {
   "cell_type": "markdown",
   "metadata": {
    "deletable": true,
    "editable": true,
    "slideshow": {
     "slide_type": "fragment"
    }
   },
   "source": [
    "**`await`** can only be used in another coroutine. So the first time:"
   ]
  },
  {
   "cell_type": "code",
   "execution_count": 9,
   "metadata": {
    "collapsed": false,
    "deletable": true,
    "editable": true,
    "slideshow": {
     "slide_type": "subslide"
    }
   },
   "outputs": [
    {
     "data": {
      "text/plain": [
       "<Task pending coro=<my_coroutine() running at <ipython-input-3-9cd02186eacb>:5>>"
      ]
     },
     "execution_count": 9,
     "metadata": {},
     "output_type": "execute_result"
    }
   ],
   "source": [
    "import asyncio\n",
    "task = asyncio.ensure_future(my_coroutine())\n",
    "task"
   ]
  },
  {
   "cell_type": "markdown",
   "metadata": {
    "deletable": true,
    "editable": true,
    "slideshow": {
     "slide_type": "fragment"
    }
   },
   "source": [
    "It's ready to be scheduled, we need to tell the **event loop** to execute it."
   ]
  },
  {
   "cell_type": "markdown",
   "metadata": {
    "deletable": true,
    "editable": true,
    "slideshow": {
     "slide_type": "slide"
    }
   },
   "source": [
    "# Event loop\n",
    "\n",
    "- Manages and distributes the execution of different tasks.\n",
    "- Uses OS signals to detect availability on socket connections."
   ]
  },
  {
   "cell_type": "code",
   "execution_count": 10,
   "metadata": {
    "collapsed": false,
    "deletable": true,
    "editable": true,
    "slideshow": {
     "slide_type": "subslide"
    }
   },
   "outputs": [
    {
     "name": "stdout",
     "output_type": "stream",
     "text": [
      "Executing my coroutine\n"
     ]
    },
    {
     "data": {
      "text/plain": [
       "42"
      ]
     },
     "execution_count": 10,
     "metadata": {},
     "output_type": "execute_result"
    }
   ],
   "source": [
    "loop = asyncio.get_event_loop()\n",
    "loop.run_until_complete(task)"
   ]
  },
  {
   "cell_type": "markdown",
   "metadata": {
    "deletable": true,
    "editable": true,
    "slideshow": {
     "slide_type": "fragment"
    }
   },
   "source": [
    "It's now **done** and we can retrieve it's result at any time."
   ]
  },
  {
   "cell_type": "code",
   "execution_count": 11,
   "metadata": {
    "collapsed": false,
    "deletable": true,
    "editable": true,
    "slideshow": {
     "slide_type": "fragment"
    }
   },
   "outputs": [
    {
     "data": {
      "text/plain": [
       "(True, 42)"
      ]
     },
     "execution_count": 11,
     "metadata": {},
     "output_type": "execute_result"
    }
   ],
   "source": [
    "task.done(), task.result()"
   ]
  },
  {
   "cell_type": "markdown",
   "metadata": {
    "deletable": true,
    "editable": true,
    "slideshow": {
     "slide_type": "slide"
    }
   },
   "source": [
    "## Summary of concepts\n",
    "\n",
    "- **Coroutines**, are asynchronous functions\n",
    "- **Tasks**, wrap coroutines to be executed\n",
    "- **Event loop**, schedule the execution of tasks"
   ]
  },
  {
   "cell_type": "markdown",
   "metadata": {
    "deletable": true,
    "editable": true,
    "slideshow": {
     "slide_type": "slide"
    }
   },
   "source": [
    "## Scheduling tasks\n",
    "\n",
    "Tasks can be grouped and scheduled at the same time.\n",
    "\n",
    "- \"[**gather**](https://docs.python.org/3/library/asyncio-task.html#asyncio.gather) returns a future aggregating results from the given coroutine objects or futures\""
   ]
  },
  {
   "cell_type": "code",
   "execution_count": 12,
   "metadata": {
    "collapsed": true,
    "deletable": true,
    "editable": true,
    "slideshow": {
     "slide_type": "subslide"
    }
   },
   "outputs": [],
   "source": [
    "async def foo():\n",
    "    print('Executing foo')\n",
    "    return 1\n",
    "\n",
    "async def bar():\n",
    "    print('Executing bar')\n",
    "    return 2"
   ]
  },
  {
   "cell_type": "code",
   "execution_count": 13,
   "metadata": {
    "collapsed": false,
    "deletable": true,
    "editable": true,
    "slideshow": {
     "slide_type": "subslide"
    }
   },
   "outputs": [
    {
     "name": "stdout",
     "output_type": "stream",
     "text": [
      "Executing foo\n",
      "Executing bar\n",
      "The results are: [1, 2]\n"
     ]
    }
   ],
   "source": [
    "# group the tasks into a single task\n",
    "grouped_task = asyncio.gather(foo(), bar())\n",
    "# run the grouped task until complete\n",
    "results = loop.run_until_complete(grouped_task)\n",
    "print(\"The results are: {}\".format(results))"
   ]
  },
  {
   "cell_type": "markdown",
   "metadata": {
    "deletable": true,
    "editable": true,
    "slideshow": {
     "slide_type": "fragment"
    }
   },
   "source": [
    "It does not guarantee order of execution, **bar** may execute before **foo**, depending on the event loop's whim"
   ]
  },
  {
   "cell_type": "code",
   "execution_count": 14,
   "metadata": {
    "collapsed": true,
    "deletable": true,
    "editable": true,
    "slideshow": {
     "slide_type": "slide"
    }
   },
   "outputs": [],
   "source": [
    "async def foo():\n",
    "    print('Executing foo')\n",
    "    await asyncio.sleep(0)\n",
    "    print('foo back from sleeping')\n",
    "    return 1\n",
    "\n",
    "async def bar():\n",
    "    print('Executing bar')\n",
    "    await asyncio.sleep(0)\n",
    "    print('bar back from sleeping')\n",
    "    return 2"
   ]
  },
  {
   "cell_type": "markdown",
   "metadata": {
    "deletable": true,
    "editable": true,
    "slideshow": {
     "slide_type": "fragment"
    }
   },
   "source": [
    "**asyncio.sleep** is a coroutine that waits for the given number of seconds.\n",
    "\n",
    "We do not call **bar** from **foo** or viceversa.\n",
    "\n",
    "We're not using **ensure_future** in the coroutine, a coroutine can **await** another coroutine without wrapping it in a **Task**."
   ]
  },
  {
   "cell_type": "code",
   "execution_count": 15,
   "metadata": {
    "collapsed": false,
    "deletable": true,
    "editable": true,
    "slideshow": {
     "slide_type": "subslide"
    }
   },
   "outputs": [
    {
     "name": "stdout",
     "output_type": "stream",
     "text": [
      "Executing foo\n",
      "Executing bar\n",
      "foo back from sleeping\n",
      "bar back from sleeping\n",
      "The results are: [1, 2]\n"
     ]
    }
   ],
   "source": [
    "grouped_task = asyncio.gather(foo(), bar())\n",
    "results = loop.run_until_complete(grouped_task)\n",
    "print(\"The results are: {}\".format(results))"
   ]
  },
  {
   "cell_type": "markdown",
   "metadata": {
    "deletable": true,
    "editable": true,
    "slideshow": {
     "slide_type": "subslide"
    }
   },
   "source": [
    "<img src=\"images/foo_bar_await_2.png\" width=\"1000\" />"
   ]
  },
  {
   "cell_type": "code",
   "execution_count": 16,
   "metadata": {
    "collapsed": true,
    "deletable": true,
    "editable": true,
    "slideshow": {
     "slide_type": "subslide"
    }
   },
   "outputs": [],
   "source": [
    "async def foo():\n",
    "    print('Executing foo')\n",
    "    # explicit context switch to a scheduled task\n",
    "    await asyncio.sleep(0)\n",
    "    print('foo back from sleeping')\n",
    "    # task is done, implicit context switch to bar\n",
    "    return 1\n",
    "\n",
    "async def bar():\n",
    "    print('Executing bar')\n",
    "    # explicit context switch to a scheduled task\n",
    "    await asyncio.sleep(0)\n",
    "    print('bar back from sleeping')\n",
    "    return 2\n",
    "    # all tasks are done, the gather task is done"
   ]
  },
  {
   "cell_type": "markdown",
   "metadata": {
    "deletable": true,
    "editable": true,
    "slideshow": {
     "slide_type": "subslide"
    }
   },
   "source": [
    "- **`await`** will suspend the coroutine and yield to the event loop which will give control to other scheduled tasks."
   ]
  },
  {
   "cell_type": "markdown",
   "metadata": {
    "deletable": true,
    "editable": true,
    "slideshow": {
     "slide_type": "fragment"
    }
   },
   "source": [
    "-  the coroutine will resume at the **`await`** point when the event loop yields control back to it."
   ]
  },
  {
   "cell_type": "markdown",
   "metadata": {
    "deletable": true,
    "editable": true,
    "slideshow": {
     "slide_type": "fragment"
    }
   },
   "source": [
    "- Upon returning or raising and exception the task is *done* also yielding control to the event loop."
   ]
  },
  {
   "cell_type": "markdown",
   "metadata": {
    "deletable": true,
    "editable": true,
    "slideshow": {
     "slide_type": "slide"
    }
   },
   "source": [
    "# Sleepy?"
   ]
  },
  {
   "cell_type": "markdown",
   "metadata": {
    "collapsed": true,
    "deletable": true,
    "editable": true,
    "slideshow": {
     "slide_type": "fragment"
    }
   },
   "source": [
    "<img src=\"images/coffee_break.gif\" width=\"700\" />"
   ]
  },
  {
   "cell_type": "markdown",
   "metadata": {
    "deletable": true,
    "editable": true,
    "slideshow": {
     "slide_type": "slide"
    }
   },
   "source": [
    "<h2 style=\"padding-bottom: 2em\">Let's fetch some URLs</h2>\n",
    "## Using [requests](http://docs.python-requests.org/en/master/)"
   ]
  },
  {
   "cell_type": "code",
   "execution_count": 17,
   "metadata": {
    "collapsed": false,
    "deletable": true,
    "editable": true,
    "slideshow": {
     "slide_type": "skip"
    }
   },
   "outputs": [],
   "source": [
    "import time\n",
    "from datetime import datetime\n",
    "from contextlib import contextmanager\n",
    "from urllib.parse import urlparse\n",
    "import requests\n",
    "\n",
    "@contextmanager\n",
    "def benchmark(description=''):\n",
    "    start = time.time()\n",
    "    yield\n",
    "    print('{} took: {:.3f} seconds'.format(\n",
    "        description, time.time() - start))\n",
    "\n",
    "def get_url(response):\n",
    "    try:\n",
    "        url = response.url_obj\n",
    "    except AttributeError:\n",
    "        url = response.url\n",
    "    \n",
    "    return urlparse(str(url)).netloc\n",
    "\n",
    "def get_status(response):\n",
    "    try:\n",
    "        return response.status\n",
    "    except AttributeError:\n",
    "        return response.status_code\n",
    "    \n",
    "    \n",
    "show_timestamps = False\n",
    "def print_response(response, elapsed):\n",
    "    now = datetime.now()\n",
    "    msg = '{:25.25} {} {} {:.3f} seconds'.format(\n",
    "            get_url(response), get_status(response),\n",
    "            response.reason, elapsed)\n",
    "    if show_timestamps:\n",
    "         msg = '[{:%H:%M:%S}.{:03.0f}] {}'.format(\n",
    "            now, now.microsecond / 1000, msg)\n",
    "    print(msg)\n",
    "    \n",
    "def print_responses(responses):\n",
    "    for response, elapsed in responses:\n",
    "        print_response(response, elapsed)"
   ]
  },
  {
   "cell_type": "code",
   "execution_count": 18,
   "metadata": {
    "collapsed": false,
    "deletable": true,
    "editable": true,
    "slideshow": {
     "slide_type": "subslide"
    }
   },
   "outputs": [],
   "source": [
    "def fetch(url):\n",
    "    start = time.time()\n",
    "    response = requests.get(url)\n",
    "    return response, time.time() - start"
   ]
  },
  {
   "cell_type": "code",
   "execution_count": 19,
   "metadata": {
    "collapsed": false,
    "deletable": true,
    "editable": true,
    "slideshow": {
     "slide_type": "subslide"
    }
   },
   "outputs": [],
   "source": [
    "def main(urls):\n",
    "    start = time.time()\n",
    "    for url in urls:\n",
    "        response, elapsed = fetch(url)\n",
    "        print_response(response, elapsed)\n",
    "    print('\\nFetching all results: {:.3f} seconds'.format(\n",
    "        time.time() - start))"
   ]
  },
  {
   "cell_type": "code",
   "execution_count": 20,
   "metadata": {
    "collapsed": false,
    "deletable": true,
    "editable": true,
    "slideshow": {
     "slide_type": "subslide"
    }
   },
   "outputs": [
    {
     "name": "stdout",
     "output_type": "stream",
     "text": [
      "www.python.org            200 OK 0.144 seconds\n",
      "docs.python-requests.org  200 OK 0.427 seconds\n",
      "\n",
      "Fetching all results: 0.572 seconds\n"
     ]
    }
   ],
   "source": [
    "urls = ['https://www.python.org',\n",
    "        'http://python-requests.org']\n",
    "main(urls)"
   ]
  },
  {
   "cell_type": "markdown",
   "metadata": {
    "deletable": true,
    "editable": true,
    "slideshow": {
     "slide_type": "slide"
    }
   },
   "source": [
    "## Using asyncio + [aiohttp](http://aiohttp.readthedocs.io/en/stable/):"
   ]
  },
  {
   "cell_type": "code",
   "execution_count": 21,
   "metadata": {
    "collapsed": false,
    "deletable": true,
    "editable": true,
    "slideshow": {
     "slide_type": "skip"
    }
   },
   "outputs": [],
   "source": [
    "import aiohttp\n",
    "import logging\n",
    "\n",
    "logging.basicConfig(format='%(message)s')\n",
    "log = logging.getLogger(__name__)"
   ]
  },
  {
   "cell_type": "code",
   "execution_count": 22,
   "metadata": {
    "collapsed": true,
    "deletable": true,
    "editable": true,
    "slideshow": {
     "slide_type": "subslide"
    }
   },
   "outputs": [],
   "source": [
    "async def fetch_coro(session, url):\n",
    "    start = time.time()\n",
    "    response = await session.get(url)\n",
    "    response.close()  # required by aiohttp\n",
    "    return response, time.time() - start"
   ]
  },
  {
   "cell_type": "code",
   "execution_count": 23,
   "metadata": {
    "collapsed": false,
    "deletable": true,
    "editable": true,
    "slideshow": {
     "slide_type": "subslide"
    }
   },
   "outputs": [],
   "source": [
    "async def main_coro(urls):\n",
    "    session = aiohttp.ClientSession(loop=loop)\n",
    "    start = time.time()\n",
    "    for url in urls:\n",
    "        response, elapsed = await fetch_coro(session, url)\n",
    "        print_response(response, elapsed)\n",
    "        \n",
    "    print('\\nFetching all results took: {:.3f} seconds'.format(\n",
    "        time.time() - start))\n",
    "\n",
    "    session.close()"
   ]
  },
  {
   "cell_type": "code",
   "execution_count": 24,
   "metadata": {
    "collapsed": false,
    "deletable": true,
    "editable": true,
    "slideshow": {
     "slide_type": "subslide"
    }
   },
   "outputs": [
    {
     "name": "stdout",
     "output_type": "stream",
     "text": [
      "www.python.org            200 OK 0.418 seconds\n",
      "aiohttp.readthedocs.io    200 OK 0.576 seconds\n",
      "\n",
      "Fetching all results took: 0.994 seconds\n"
     ]
    }
   ],
   "source": [
    "urls = ['https://python.org', 'https://aiohttp.readthedocs.io/']\n",
    "loop.run_until_complete(main_coro(urls))"
   ]
  },
  {
   "cell_type": "markdown",
   "metadata": {
    "deletable": true,
    "editable": true,
    "slideshow": {
     "slide_type": "fragment"
    }
   },
   "source": [
    "Same result as **requests**."
   ]
  },
  {
   "cell_type": "code",
   "execution_count": 25,
   "metadata": {
    "collapsed": false,
    "deletable": true,
    "editable": true,
    "slideshow": {
     "slide_type": "subslide"
    }
   },
   "outputs": [],
   "source": [
    "async def main_coro(urls):\n",
    "    session = aiohttp.ClientSession(loop=loop)\n",
    "    start = time.time()\n",
    "    for url in urls:\n",
    "        response, elapsed = await fetch_coro(session, url)\n",
    "        print_response(response, elapsed)\n",
    "        \n",
    "    print('\\nFetching all results took: {:.3f} seconds'.format(\n",
    "        time.time() - start))\n",
    "\n",
    "    session.close()"
   ]
  },
  {
   "cell_type": "markdown",
   "metadata": {
    "deletable": true,
    "editable": true,
    "slideshow": {
     "slide_type": "fragment"
    }
   },
   "source": [
    "On **`await`** there are no other scheduled tasks, so the event loop just waits until the request is finished and moves forward."
   ]
  },
  {
   "cell_type": "code",
   "execution_count": 26,
   "metadata": {
    "collapsed": false,
    "deletable": true,
    "editable": true,
    "slideshow": {
     "slide_type": "subslide"
    }
   },
   "outputs": [],
   "source": [
    "async def main_coro_gather(urls):\n",
    "    session = aiohttp.ClientSession(loop=loop)\n",
    "    coros = [fetch_coro(session, url) for url in urls]\n",
    "\n",
    "    start = time.time()\n",
    "    responses = await asyncio.gather(*coros)\n",
    "    print_responses(responses)\n",
    "    print('\\nFetching all results took: {:.3f} seconds'.format(\n",
    "        time.time() - start))\n",
    "    session.close()"
   ]
  },
  {
   "cell_type": "code",
   "execution_count": 27,
   "metadata": {
    "collapsed": false,
    "deletable": true,
    "editable": true,
    "slideshow": {
     "slide_type": "subslide"
    }
   },
   "outputs": [
    {
     "name": "stdout",
     "output_type": "stream",
     "text": [
      "www.python.org            200 OK 0.395 seconds\n",
      "aiohttp.readthedocs.io    200 OK 0.443 seconds\n",
      "\n",
      "Fetching all results took: 0.456 seconds\n"
     ]
    }
   ],
   "source": [
    "urls = ['https://python.org', 'https://aiohttp.readthedocs.io/']\n",
    "loop.run_until_complete(main_coro_gather(urls))"
   ]
  },
  {
   "cell_type": "markdown",
   "metadata": {
    "deletable": true,
    "editable": true,
    "slideshow": {
     "slide_type": "fragment"
    }
   },
   "source": [
    "That's a few ms over the slowest request!"
   ]
  },
  {
   "cell_type": "markdown",
   "metadata": {
    "deletable": true,
    "editable": true,
    "slideshow": {
     "slide_type": "slide"
    }
   },
   "source": [
    "## a few more URLs..."
   ]
  },
  {
   "cell_type": "code",
   "execution_count": 28,
   "metadata": {
    "collapsed": false,
    "deletable": true,
    "editable": true,
    "slideshow": {
     "slide_type": "subslide"
    }
   },
   "outputs": [
    {
     "name": "stdout",
     "output_type": "stream",
     "text": [
      "www.python.org            200 OK 0.428 seconds\n",
      "aiohttp.readthedocs.io    200 OK 0.504 seconds\n",
      "docs.python-requests.org  200 OK 0.291 seconds\n",
      "github.com                200 OK 0.521 seconds\n",
      "news.ycombinator.com      200 OK 0.216 seconds\n",
      "www.meetup.com            200 OK 0.889 seconds\n",
      "\n",
      "Fetching all results: 2.853 seconds\n"
     ]
    }
   ],
   "source": [
    "urls = [\n",
    "    'https://python.org', 'https://aiohttp.readthedocs.io/',\n",
    "    'http://python-requests.org','https://github.com',\n",
    "    'https://news.ycombinator.com/',\n",
    "    'https://www.meetup.com/LondonPython/',\n",
    "]\n",
    "main(urls)"
   ]
  },
  {
   "cell_type": "code",
   "execution_count": 29,
   "metadata": {
    "collapsed": false,
    "deletable": true,
    "editable": true,
    "slideshow": {
     "slide_type": "subslide"
    }
   },
   "outputs": [
    {
     "name": "stdout",
     "output_type": "stream",
     "text": [
      "www.python.org            200 OK 0.370 seconds\n",
      "aiohttp.readthedocs.io    200 OK 0.492 seconds\n",
      "docs.python-requests.org  200 OK 0.296 seconds\n",
      "github.com                200 OK 0.382 seconds\n",
      "news.ycombinator.com      200 OK 0.500 seconds\n",
      "www.meetup.com            200 OK 0.246 seconds\n",
      "\n",
      "Fetching all results took: 0.514 seconds\n"
     ]
    }
   ],
   "source": [
    "loop.run_until_complete(main_coro_gather(urls))"
   ]
  },
  {
   "cell_type": "markdown",
   "metadata": {
    "deletable": true,
    "editable": true,
    "slideshow": {
     "slide_type": "fragment"
    }
   },
   "source": [
    "<img src=\"images/roadrunner.gif\" width=\"300\" />"
   ]
  },
  {
   "cell_type": "markdown",
   "metadata": {
    "deletable": true,
    "editable": true,
    "slideshow": {
     "slide_type": "slide"
    }
   },
   "source": [
    "## One subtle difference"
   ]
  },
  {
   "cell_type": "code",
   "execution_count": 30,
   "metadata": {
    "collapsed": false,
    "deletable": true,
    "editable": true,
    "slideshow": {
     "slide_type": "fragment"
    }
   },
   "outputs": [
    {
     "name": "stdout",
     "output_type": "stream",
     "text": [
      "[13:47:17.653] www.python.org            200 OK 0.425 seconds\n",
      "[13:47:18.100] aiohttp.readthedocs.io    200 OK 0.446 seconds\n",
      "[13:47:18.413] docs.python-requests.org  200 OK 0.312 seconds\n",
      "[13:47:18.901] github.com                200 OK 0.488 seconds\n",
      "[13:47:19.056] news.ycombinator.com      200 OK 0.155 seconds\n",
      "[13:47:19.540] www.meetup.com            200 OK 0.483 seconds\n",
      "\n",
      "Fetching all results: 2.312 seconds\n"
     ]
    }
   ],
   "source": [
    "urls = [\n",
    "    'https://python.org', 'https://aiohttp.readthedocs.io/',\n",
    "    'http://python-requests.org','https://github.com',\n",
    "    'https://news.ycombinator.com/',\n",
    "    'https://www.meetup.com/LondonPython/',\n",
    "]\n",
    "show_timestamps = True\n",
    "main(urls)"
   ]
  },
  {
   "cell_type": "code",
   "execution_count": 31,
   "metadata": {
    "collapsed": false,
    "deletable": true,
    "editable": true,
    "slideshow": {
     "slide_type": "subslide"
    }
   },
   "outputs": [
    {
     "name": "stdout",
     "output_type": "stream",
     "text": [
      "[13:47:25.445] www.python.org            200 OK 0.371 seconds\n",
      "[13:47:25.445] aiohttp.readthedocs.io    200 OK 0.427 seconds\n",
      "[13:47:25.445] docs.python-requests.org  200 OK 0.289 seconds\n",
      "[13:47:25.446] github.com                200 OK 0.457 seconds\n",
      "[13:47:25.446] news.ycombinator.com      200 OK 0.140 seconds\n",
      "[13:47:25.446] www.meetup.com            200 OK 0.321 seconds\n",
      "\n",
      "Fetching all results took: 0.459 seconds\n"
     ]
    }
   ],
   "source": [
    "loop.run_until_complete(main_coro_gather(urls))"
   ]
  },
  {
   "cell_type": "markdown",
   "metadata": {
    "deletable": true,
    "editable": true,
    "slideshow": {
     "slide_type": "fragment"
    }
   },
   "source": [
    "- The synchronous version prints the response immediately after the request returns.\n",
    "- The asynchronous version prints all of them once they're **all** finished.\n",
    "- What if one takes a very long time?"
   ]
  },
  {
   "cell_type": "markdown",
   "metadata": {
    "deletable": true,
    "editable": true,
    "slideshow": {
     "slide_type": "slide"
    }
   },
   "source": [
    "## Scheduling tasks with `as_completed`\n",
    "\n",
    "- [**`as_completed`**](https://docs.python.org/3.6/library/asyncio-task.html#asyncio.as_completed) returns an iterator whose values, when waited for, are **`Future`** instances."
   ]
  },
  {
   "cell_type": "code",
   "execution_count": 32,
   "metadata": {
    "collapsed": false,
    "deletable": true,
    "editable": true,
    "slideshow": {
     "slide_type": "fragment"
    }
   },
   "outputs": [],
   "source": [
    "async def main_coro_as_completed(urls):\n",
    "    session = aiohttp.ClientSession(loop=loop)\n",
    "    coros = [fetch_coro(session, url) for url in urls]\n",
    "    start = time.time()\n",
    "    for value in asyncio.as_completed(coros):\n",
    "        response, elapsed = await value  # always yields completed Futures\n",
    "        print_response(response, elapsed)\n",
    "    print('\\nFetching all results took: {:.3f} seconds'.format(\n",
    "        time.time() - start))\n",
    "    session.close()"
   ]
  },
  {
   "cell_type": "code",
   "execution_count": 33,
   "metadata": {
    "collapsed": false,
    "deletable": true,
    "editable": true,
    "slideshow": {
     "slide_type": "subslide"
    }
   },
   "outputs": [
    {
     "name": "stdout",
     "output_type": "stream",
     "text": [
      "[13:47:31.884] news.ycombinator.com      200 OK 0.142 seconds\n",
      "[13:47:32.014] docs.python-requests.org  200 OK 0.272 seconds\n",
      "[13:47:32.092] www.meetup.com            200 OK 0.350 seconds\n",
      "[13:47:32.125] github.com                200 OK 0.384 seconds\n",
      "[13:47:32.130] www.python.org            200 OK 0.389 seconds\n",
      "[13:47:32.187] aiohttp.readthedocs.io    200 OK 0.456 seconds\n",
      "\n",
      "Fetching all results took: 0.458 seconds\n"
     ]
    }
   ],
   "source": [
    "loop.run_until_complete(main_coro_as_completed(urls))"
   ]
  },
  {
   "cell_type": "markdown",
   "metadata": {
    "deletable": true,
    "editable": true,
    "slideshow": {
     "slide_type": "fragment"
    }
   },
   "source": [
    "- The results are printed as they arrive.\n",
    "- The values yielded by the iterator correspond to completed Futures.\n",
    "- You must **`await`** them but they return immediately."
   ]
  },
  {
   "cell_type": "code",
   "execution_count": 34,
   "metadata": {
    "collapsed": true,
    "deletable": true,
    "editable": true,
    "slideshow": {
     "slide_type": "skip"
    }
   },
   "outputs": [],
   "source": [
    "show_timestamps = False"
   ]
  },
  {
   "cell_type": "markdown",
   "metadata": {
    "deletable": true,
    "editable": true,
    "slideshow": {
     "slide_type": "slide"
    }
   },
   "source": [
    "## Oops..."
   ]
  },
  {
   "cell_type": "code",
   "execution_count": 35,
   "metadata": {
    "collapsed": true,
    "deletable": true,
    "editable": true,
    "slideshow": {
     "slide_type": "fragment"
    }
   },
   "outputs": [],
   "source": [
    "urls = [\n",
    "    'https://python.org',\n",
    "    'https://aiohttp.readthedocs.io/',\n",
    "    'http://python-requests.org',\n",
    "    'http://not.a.thing/',  # <<\n",
    "    'https://github.com',\n",
    "    'https://news.ycombinator.com/',\n",
    "    'https://www.meetup.com/LondonPython/',\n",
    "]"
   ]
  },
  {
   "cell_type": "markdown",
   "metadata": {
    "deletable": true,
    "editable": true,
    "slideshow": {
     "slide_type": "subslide"
    }
   },
   "source": [
    "### **`requests`**"
   ]
  },
  {
   "cell_type": "code",
   "execution_count": 36,
   "metadata": {
    "collapsed": false,
    "deletable": true,
    "editable": true,
    "slideshow": {
     "slide_type": "fragment"
    }
   },
   "outputs": [
    {
     "name": "stdout",
     "output_type": "stream",
     "text": [
      "www.python.org            200 OK 0.411 seconds\n",
      "aiohttp.readthedocs.io    200 OK 0.581 seconds\n",
      "docs.python-requests.org  200 OK 0.291 seconds\n",
      "HTTPConnectionPool(host='not.a.thing', port=80): Max retries exceeded with url: / (Caused by NewConnectionError('<requests.packages.urllib3.connection.HTTPConnection object at 0x10daa47b8>: Failed to establish a new connection: [Errno 8] nodename nor servname provided, or not known',))\n"
     ]
    }
   ],
   "source": [
    "try:\n",
    "    main(urls)\n",
    "except Exception as e:\n",
    "    print(e)"
   ]
  },
  {
   "cell_type": "markdown",
   "metadata": {
    "deletable": true,
    "editable": true,
    "slideshow": {
     "slide_type": "subslide"
    }
   },
   "source": [
    "### **`gather`**"
   ]
  },
  {
   "cell_type": "code",
   "execution_count": 37,
   "metadata": {
    "collapsed": false,
    "deletable": true,
    "editable": true,
    "slideshow": {
     "slide_type": "fragment"
    }
   },
   "outputs": [
    {
     "name": "stdout",
     "output_type": "stream",
     "text": [
      "[Errno 8] Cannot connect to host not.a.thing:80 ssl:False [nodename nor servname provided, or not known]\n"
     ]
    }
   ],
   "source": [
    "try:\n",
    "    loop.run_until_complete(main_coro_gather(urls))\n",
    "except Exception as e:\n",
    "    print(e)"
   ]
  },
  {
   "cell_type": "markdown",
   "metadata": {
    "deletable": true,
    "editable": true,
    "slideshow": {
     "slide_type": "subslide"
    }
   },
   "source": [
    "### **`as_completed`**"
   ]
  },
  {
   "cell_type": "code",
   "execution_count": 38,
   "metadata": {
    "collapsed": false,
    "deletable": true,
    "editable": true,
    "slideshow": {
     "slide_type": "fragment"
    }
   },
   "outputs": [
    {
     "name": "stdout",
     "output_type": "stream",
     "text": [
      "[Errno 8] Cannot connect to host not.a.thing:80 ssl:False [nodename nor servname provided, or not known]\n"
     ]
    }
   ],
   "source": [
    "try:\n",
    "    loop.run_until_complete(main_coro_as_completed(urls))\n",
    "except Exception as e:\n",
    "    print(e)"
   ]
  },
  {
   "cell_type": "markdown",
   "metadata": {
    "deletable": true,
    "editable": true,
    "slideshow": {
     "slide_type": "slide"
    }
   },
   "source": [
    "# Error handling"
   ]
  },
  {
   "cell_type": "markdown",
   "metadata": {
    "deletable": true,
    "editable": true,
    "slideshow": {
     "slide_type": "subslide"
    }
   },
   "source": [
    "Using **`requests`**:"
   ]
  },
  {
   "cell_type": "code",
   "execution_count": 39,
   "metadata": {
    "collapsed": true,
    "deletable": true,
    "editable": true,
    "slideshow": {
     "slide_type": "fragment"
    }
   },
   "outputs": [],
   "source": [
    "def main(urls):\n",
    "    start = time.time()\n",
    "    responses = []\n",
    "    for url in urls:\n",
    "        try:\n",
    "            response, elapsed = fetch(url)\n",
    "            print_response(response, elapsed)\n",
    "        except Exception as e:\n",
    "            print('Error retrieving URL {}: {}'.format(\n",
    "                url, e.__class__.__name__))\n",
    "\n",
    "    print('Fetching all results: {:.3f} seconds\\n'.format(\n",
    "        time.time() - start))\n",
    "    print_responses(responses)"
   ]
  },
  {
   "cell_type": "code",
   "execution_count": 40,
   "metadata": {
    "collapsed": false,
    "deletable": true,
    "editable": true,
    "slideshow": {
     "slide_type": "subslide"
    }
   },
   "outputs": [
    {
     "name": "stdout",
     "output_type": "stream",
     "text": [
      "www.python.org            200 OK 0.424 seconds\n",
      "aiohttp.readthedocs.io    200 OK 0.556 seconds\n",
      "docs.python-requests.org  200 OK 0.379 seconds\n",
      "Error retrieving URL http://not.a.thing/: ConnectionError\n",
      "github.com                200 OK 0.453 seconds\n",
      "news.ycombinator.com      200 OK 0.155 seconds\n",
      "www.meetup.com            200 OK 0.469 seconds\n",
      "Fetching all results: 2.442 seconds\n",
      "\n"
     ]
    }
   ],
   "source": [
    "main(urls)"
   ]
  },
  {
   "cell_type": "markdown",
   "metadata": {
    "deletable": true,
    "editable": true,
    "slideshow": {
     "slide_type": "slide"
    }
   },
   "source": [
    "### In asyncio:\n",
    "\n",
    "- Exceptions bubble in the exact same way"
   ]
  },
  {
   "cell_type": "code",
   "execution_count": 41,
   "metadata": {
    "collapsed": false,
    "deletable": true,
    "editable": true,
    "slideshow": {
     "slide_type": "subslide"
    }
   },
   "outputs": [],
   "source": [
    "async def main_coro_as_completed(urls):\n",
    "    session = aiohttp.ClientSession(loop=loop)\n",
    "    coros = [fetch_coro(session, url) for url in urls]\n",
    "    start = time.time()\n",
    "    for value in asyncio.as_completed(coros):\n",
    "        try:\n",
    "            response, elapsed = await value\n",
    "            print_response(response, elapsed)\n",
    "        except Exception as e:\n",
    "            print('Error retrieving URL: {}'.format(\n",
    "                e.__class__.__name__))\n",
    "\n",
    "    print('\\nFetching all results took: {:.3f} seconds'.format(\n",
    "        time.time() - start))\n",
    "    session.close()"
   ]
  },
  {
   "cell_type": "code",
   "execution_count": 42,
   "metadata": {
    "collapsed": false,
    "deletable": true,
    "editable": true,
    "slideshow": {
     "slide_type": "subslide"
    }
   },
   "outputs": [
    {
     "name": "stdout",
     "output_type": "stream",
     "text": [
      "Error retrieving URL: ClientOSError\n",
      "www.meetup.com            200 OK 0.251 seconds\n",
      "docs.python-requests.org  200 OK 0.290 seconds\n",
      "www.python.org            200 OK 0.398 seconds\n",
      "github.com                200 OK 0.401 seconds\n",
      "aiohttp.readthedocs.io    200 OK 0.457 seconds\n",
      "news.ycombinator.com      200 OK 1.292 seconds\n",
      "\n",
      "Fetching all results took: 1.294 seconds\n"
     ]
    }
   ],
   "source": [
    "loop.run_until_complete(main_coro_as_completed(urls))"
   ]
  },
  {
   "cell_type": "markdown",
   "metadata": {
    "deletable": true,
    "editable": true,
    "slideshow": {
     "slide_type": "slide"
    }
   },
   "source": [
    "### Using **`gather`**"
   ]
  },
  {
   "cell_type": "code",
   "execution_count": 43,
   "metadata": {
    "collapsed": true,
    "deletable": true,
    "editable": true,
    "slideshow": {
     "slide_type": "subslide"
    }
   },
   "outputs": [],
   "source": [
    "async def main_coro_gather(urls):\n",
    "    session = aiohttp.ClientSession(loop=loop)\n",
    "    coros = [fetch_coro(session, url) for url in urls]\n",
    "    start = time.time()\n",
    "    try:\n",
    "        responses = await asyncio.gather(*coros)\n",
    "    except Exception as e:\n",
    "        print('Error retrieving URLs: {}'.format(e.__class__.__name__))\n",
    "    else:\n",
    "        print('Fetching all results took: {:.3f} seconds\\n'.format(\n",
    "            time.time() - start))\n",
    "\n",
    "        print_responses(responses)\n",
    "    finally:\n",
    "        session.close()"
   ]
  },
  {
   "cell_type": "code",
   "execution_count": 45,
   "metadata": {
    "collapsed": false,
    "deletable": true,
    "editable": true,
    "slideshow": {
     "slide_type": "subslide"
    }
   },
   "outputs": [
    {
     "name": "stdout",
     "output_type": "stream",
     "text": [
      "Error retrieving URLs: ClientOSError\n"
     ]
    }
   ],
   "source": [
    "loop.run_until_complete(main_coro_gather(urls))"
   ]
  },
  {
   "cell_type": "markdown",
   "metadata": {
    "deletable": true,
    "editable": true,
    "slideshow": {
     "slide_type": "fragment"
    }
   },
   "source": [
    "What about requests that **didn't** fail?"
   ]
  },
  {
   "cell_type": "markdown",
   "metadata": {
    "deletable": true,
    "editable": true,
    "slideshow": {
     "slide_type": "slide"
    }
   },
   "source": [
    "- **`gather`** creates grouped task from many others that when awaited returns their **results**.\n",
    "- If these results are exceptions they are raised by default.\n",
    "- To prevent this, it accepts an argument **`return_exceptions`**:\n",
    "    - \"If `true`, exceptions in the tasks are treated the same as successful results, and gathered in the result list\""
   ]
  },
  {
   "cell_type": "code",
   "execution_count": 46,
   "metadata": {
    "collapsed": false,
    "deletable": true,
    "editable": true,
    "slideshow": {
     "slide_type": "subslide"
    }
   },
   "outputs": [],
   "source": [
    "async def main_coro_gather(urls):\n",
    "    session = aiohttp.ClientSession(loop=loop)\n",
    "    coros = [fetch_coro(session, url) for url in urls]\n",
    "    start = time.time()\n",
    "    results = await asyncio.gather(\n",
    "        *coros, return_exceptions=True)  # does not raise\n",
    "    for url, result in zip(urls, results):\n",
    "        if isinstance(result, Exception):\n",
    "            print('Error retrieving URL {}: {}'.format(\n",
    "                url, result.__class__.__name__))\n",
    "        else:\n",
    "            print_response(*result)\n",
    "\n",
    "    session.close()"
   ]
  },
  {
   "cell_type": "code",
   "execution_count": 47,
   "metadata": {
    "collapsed": false,
    "deletable": true,
    "editable": true,
    "slideshow": {
     "slide_type": "subslide"
    }
   },
   "outputs": [
    {
     "name": "stdout",
     "output_type": "stream",
     "text": [
      "www.python.org            200 OK 0.381 seconds\n",
      "aiohttp.readthedocs.io    200 OK 0.446 seconds\n",
      "docs.python-requests.org  200 OK 0.348 seconds\n",
      "Error retrieving URL http://not.a.thing/: ClientOSError\n",
      "github.com                200 OK 0.393 seconds\n",
      "news.ycombinator.com      200 OK 1.281 seconds\n",
      "www.meetup.com            200 OK 0.335 seconds\n"
     ]
    }
   ],
   "source": [
    "loop.run_until_complete(main_coro_gather(urls))"
   ]
  },
  {
   "cell_type": "markdown",
   "metadata": {
    "collapsed": true,
    "deletable": true,
    "editable": true,
    "slideshow": {
     "slide_type": "slide"
    }
   },
   "source": [
    "# \"I could do that with threads/processes\""
   ]
  },
  {
   "cell_type": "markdown",
   "metadata": {
    "deletable": true,
    "editable": true,
    "slideshow": {
     "slide_type": "fragment"
    }
   },
   "source": [
    "<img src=\"images/thatstrue.gif\" width=\"700\" />"
   ]
  },
  {
   "cell_type": "code",
   "execution_count": 48,
   "metadata": {
    "collapsed": true,
    "deletable": true,
    "editable": true,
    "slideshow": {
     "slide_type": "skip"
    }
   },
   "outputs": [],
   "source": [
    "import concurrent.futures\n",
    "start = time.time()"
   ]
  },
  {
   "cell_type": "code",
   "execution_count": 49,
   "metadata": {
    "collapsed": false,
    "deletable": true,
    "editable": true,
    "slideshow": {
     "slide_type": "subslide"
    }
   },
   "outputs": [],
   "source": [
    "def main_threads():\n",
    "    with concurrent.futures.ThreadPoolExecutor() as executor:\n",
    "        results = [executor.submit(fetch, url) for url in urls]\n",
    "\n",
    "    print('Fetching all results took: {:.3f} seconds\\n'.format(\n",
    "            time.time() - start))\n",
    "    successes = []\n",
    "    for url, result in zip(urls, results):\n",
    "        try:\n",
    "            successes.append(result.result())\n",
    "        except Exception as e:\n",
    "            print('Error retrieving URL {}: {}'.format(\n",
    "                url, e.__class__.__name__))\n",
    "\n",
    "    print_responses(successes)"
   ]
  },
  {
   "cell_type": "code",
   "execution_count": 51,
   "metadata": {
    "collapsed": false,
    "deletable": true,
    "editable": true,
    "slideshow": {
     "slide_type": "subslide"
    }
   },
   "outputs": [
    {
     "name": "stdout",
     "output_type": "stream",
     "text": [
      "Fetching all results took: 4.850 seconds\n",
      "\n",
      "Error retrieving URL http://not.a.thing/: ConnectionError\n",
      "www.python.org            200 OK 0.405 seconds\n",
      "aiohttp.readthedocs.io    200 OK 0.484 seconds\n",
      "docs.python-requests.org  200 OK 0.309 seconds\n",
      "github.com                200 OK 0.516 seconds\n",
      "news.ycombinator.com      200 OK 0.162 seconds\n",
      "www.meetup.com            200 OK 0.506 seconds\n"
     ]
    }
   ],
   "source": [
    "main_threads()"
   ]
  },
  {
   "cell_type": "markdown",
   "metadata": {
    "deletable": true,
    "editable": true,
    "slideshow": {
     "slide_type": "subslide"
    }
   },
   "source": [
    "## But...\n",
    "- There's an overhead of creating the threads\n",
    "- **Coordination**"
   ]
  },
  {
   "cell_type": "markdown",
   "metadata": {
    "deletable": true,
    "editable": true,
    "slideshow": {
     "slide_type": "slide"
    }
   },
   "source": [
    "# CPU bound tasks\n",
    "\n",
    "- Futures, `as_completed` and other concepts are borrowed from `concurrent.futures`\n",
    "- You can schedule `ThreadPoolExecutor` or `ProcessPoolExecutor` as `asyncio` tasks for the event loop to handle"
   ]
  },
  {
   "cell_type": "code",
   "execution_count": 52,
   "metadata": {
    "collapsed": true,
    "deletable": true,
    "editable": true,
    "slideshow": {
     "slide_type": "skip"
    }
   },
   "outputs": [],
   "source": [
    "def fib(a=1, b=1):\n",
    "    while True:\n",
    "        yield a\n",
    "        a, b = b, a + b\n",
    "        \n",
    "def nth_fibonacci(n):\n",
    "    g = fib()\n",
    "    for _ in range(n):\n",
    "        num = next(g)\n",
    "    return num"
   ]
  },
  {
   "cell_type": "code",
   "execution_count": 53,
   "metadata": {
    "collapsed": false,
    "deletable": true,
    "editable": true,
    "slideshow": {
     "slide_type": "fragment"
    }
   },
   "outputs": [
    {
     "name": "stdout",
     "output_type": "stream",
     "text": [
      "N-th Fibonacci number took: 3.546 seconds\n"
     ]
    }
   ],
   "source": [
    "with benchmark('N-th Fibonacci number'):\n",
    "    nth_fibonacci(500000)"
   ]
  },
  {
   "cell_type": "code",
   "execution_count": 54,
   "metadata": {
    "collapsed": false,
    "deletable": true,
    "editable": true,
    "slideshow": {
     "slide_type": "subslide"
    }
   },
   "outputs": [
    {
     "name": "stdout",
     "output_type": "stream",
     "text": [
      "www.python.org            200 OK 0.985 seconds\n",
      "aiohttp.readthedocs.io    200 OK 0.817 seconds\n",
      "docs.python-requests.org  200 OK 0.776 seconds\n",
      "Error retrieving URL http://not.a.thing/: ClientOSError\n",
      "github.com                200 OK 0.713 seconds\n",
      "news.ycombinator.com      200 OK 0.319 seconds\n",
      "www.meetup.com            200 OK 0.601 seconds\n",
      "CPU + I/O task took: 3.548 seconds\n"
     ]
    }
   ],
   "source": [
    "fib_task = loop.run_in_executor(\n",
    "    None,  # or ThreadPoolExecutor\n",
    "    nth_fibonacci, 500000)\n",
    "\n",
    "grouped_task = asyncio.gather(fib_task, main_coro_gather(urls))\n",
    "with benchmark('CPU + I/O task'):\n",
    "    loop.run_until_complete(grouped_task)"
   ]
  },
  {
   "cell_type": "markdown",
   "metadata": {
    "deletable": true,
    "editable": true,
    "slideshow": {
     "slide_type": "slide"
    }
   },
   "source": [
    "# Let's do some crawling"
   ]
  },
  {
   "cell_type": "markdown",
   "metadata": {
    "deletable": true,
    "editable": true,
    "slideshow": {
     "slide_type": "fragment"
    }
   },
   "source": [
    "<img src=\"images/HackerNews.png\" width=\"800\" />"
   ]
  },
  {
   "cell_type": "markdown",
   "metadata": {
    "deletable": true,
    "editable": true,
    "slideshow": {
     "slide_type": "fragment"
    }
   },
   "source": [
    "- [Hacker News API](https://github.com/HackerNews/API): \"Want to know the total number of comments on an article? Traverse the tree and count.\""
   ]
  },
  {
   "cell_type": "code",
   "execution_count": 55,
   "metadata": {
    "collapsed": false,
    "deletable": true,
    "editable": true,
    "slideshow": {
     "slide_type": "skip"
    }
   },
   "outputs": [],
   "source": [
    "import json\n",
    "import async_timeout\n",
    "\n",
    "loop = asyncio.get_event_loop()\n",
    "URL_TEMPLATE = \"https://hacker-news.firebaseio.com/v0/item/{}.json\"\n",
    "FETCH_TIMEOUT = 10\n",
    "\n",
    "class URLFetcher():\n",
    "    \"\"\"Provides counting of URL fetches for a particular task.\n",
    "\n",
    "    \"\"\"\n",
    "\n",
    "    def __init__(self):\n",
    "        self.fetch_counter = 0\n",
    "\n",
    "    async def fetch(self, url, session=None):\n",
    "        \"\"\"Fetch a URL using aiohttp returning parsed JSON response.\n",
    "\n",
    "        As suggested by the aiohttp docs we reuse the session.\n",
    "\n",
    "        \"\"\"\n",
    "        session = aiohttp.ClientSession(loop=loop) if session is None else session\n",
    "        async with session:\n",
    "            with async_timeout.timeout(FETCH_TIMEOUT):\n",
    "                self.fetch_counter += 1\n",
    "                async with session.get(url) as response:\n",
    "                    return await response.json()"
   ]
  },
  {
   "cell_type": "code",
   "execution_count": 56,
   "metadata": {
    "collapsed": false,
    "deletable": true,
    "editable": true,
    "slideshow": {
     "slide_type": "slide"
    }
   },
   "outputs": [
    {
     "name": "stdout",
     "output_type": "stream",
     "text": [
      "{\n",
      "  \"by\": \"jrsinclair\",\n",
      "  \"descendants\": 1,\n",
      "  \"id\": 13955074,\n",
      "  \"kids\": [\n",
      "    13958537\n",
      "  ],\n",
      "  \"score\": 8,\n",
      "  \"time\": 1490441022,\n",
      "  \"title\": \"JavaScript. But less iffy\",\n",
      "  \"type\": \"story\",\n",
      "  \"url\": \"http://jrsinclair.com/articles/2017/javascript-but-less-iffy/\"\n",
      "}\n"
     ]
    }
   ],
   "source": [
    "fetcher = URLFetcher()\n",
    "url = URL_TEMPLATE.format(13955074)\n",
    "result = loop.run_until_complete(fetcher.fetch(url))\n",
    "print(json.dumps(result, indent=2))"
   ]
  },
  {
   "cell_type": "markdown",
   "metadata": {
    "deletable": true,
    "editable": true,
    "slideshow": {
     "slide_type": "subslide"
    }
   },
   "source": [
    "### How about some recursion?\n",
    "\n",
    "- Each item has **`kid`** items, count them as the initial number of comments\n",
    "- Do the same for each of the **`kid`** items until we arrive at the leaf items with no kids and return 0\n",
    "- Add the initial comment count to that of the children's and return\n",
    "- Arrive at a grand total"
   ]
  },
  {
   "cell_type": "code",
   "execution_count": 57,
   "metadata": {
    "collapsed": true,
    "deletable": true,
    "editable": true,
    "slideshow": {
     "slide_type": "slide"
    }
   },
   "outputs": [],
   "source": [
    "async def post_number_of_comments(post_id, fetcher=None):\n",
    "    url = URL_TEMPLATE.format(post_id)\n",
    "    fetcher = URLFetcher() if fetcher is None else fetcher\n",
    "    response = await fetcher.fetch(url)\n",
    "\n",
    "    if response is None or 'kids' not in response:\n",
    "        return 0\n",
    "\n",
    "    number_of_comments = len(response['kids'])\n",
    "\n",
    "    tasks = [post_number_of_comments(\n",
    "        kid_id, fetcher) for kid_id in response['kids']]\n",
    "\n",
    "    results = await asyncio.gather(*tasks)\n",
    "\n",
    "    number_of_comments += sum(results)\n",
    "    return number_of_comments"
   ]
  },
  {
   "cell_type": "code",
   "execution_count": 58,
   "metadata": {
    "collapsed": false,
    "deletable": true,
    "editable": true,
    "slideshow": {
     "slide_type": "subslide"
    }
   },
   "outputs": [
    {
     "name": "stdout",
     "output_type": "stream",
     "text": [
      "20 comments, fetches: 21\n",
      "Gathering comments took: 2.031 seconds\n"
     ]
    }
   ],
   "source": [
    "with benchmark('Gathering comments'):\n",
    "    fetcher = URLFetcher()\n",
    "    comments = loop.run_until_complete(\n",
    "        post_number_of_comments(13952513, fetcher))\n",
    "    print('{} comments, fetches: {}'.format(\n",
    "        comments, fetcher.fetch_counter))"
   ]
  },
  {
   "cell_type": "code",
   "execution_count": 59,
   "metadata": {
    "collapsed": false,
    "deletable": true,
    "editable": true,
    "slideshow": {
     "slide_type": "subslide"
    }
   },
   "outputs": [
    {
     "name": "stdout",
     "output_type": "stream",
     "text": [
      "500 comments, fetches: 501\n",
      "Gathering comments took: 12.424 seconds\n"
     ]
    }
   ],
   "source": [
    "with benchmark('Gathering comments'):\n",
    "    fetcher = URLFetcher()\n",
    "    comments = loop.run_until_complete(\n",
    "        post_number_of_comments(13950002, fetcher))\n",
    "    print('{} comments, fetches: {}'.format(\n",
    "        comments, fetcher.fetch_counter))"
   ]
  },
  {
   "cell_type": "markdown",
   "metadata": {
    "deletable": true,
    "editable": true,
    "slideshow": {
     "slide_type": "subslide"
    }
   },
   "source": [
    "## The code one more time"
   ]
  },
  {
   "cell_type": "code",
   "execution_count": 60,
   "metadata": {
    "collapsed": true,
    "deletable": true,
    "editable": true,
    "slideshow": {
     "slide_type": "subslide"
    }
   },
   "outputs": [],
   "source": [
    "async def post_number_of_comments(post_id, fetcher=None):\n",
    "    url = URL_TEMPLATE.format(post_id)\n",
    "    fetcher = URLFetcher() if fetcher is None else fetcher\n",
    "    response = await fetcher.fetch(url)\n",
    "\n",
    "    if response is None or 'kids' not in response:\n",
    "        return 0\n",
    "\n",
    "    number_of_comments = len(response['kids'])\n",
    "\n",
    "    tasks = [post_number_of_comments(\n",
    "        kid_id, fetcher) for kid_id in response['kids']]\n",
    "\n",
    "    results = await asyncio.gather(*tasks)\n",
    "\n",
    "    number_of_comments += sum(results)\n",
    "    return number_of_comments"
   ]
  },
  {
   "cell_type": "markdown",
   "metadata": {
    "deletable": true,
    "editable": true,
    "slideshow": {
     "slide_type": "subslide"
    }
   },
   "source": [
    "- A synchronous version would be almost identical\n",
    "- To handle errors simply use **`try..except`**\n",
    "- No need for synchronisation, everything is on a single thread"
   ]
  },
  {
   "cell_type": "markdown",
   "metadata": {
    "deletable": true,
    "editable": true,
    "slideshow": {
     "slide_type": "slide"
    }
   },
   "source": [
    "# Conclusions"
   ]
  },
  {
   "cell_type": "markdown",
   "metadata": {
    "deletable": true,
    "editable": true,
    "slideshow": {
     "slide_type": "subslide"
    }
   },
   "source": [
    "## The good\n",
    "\n",
    "- **`asyncio`** and the new **`async`**/**`await`** syntax have moved Python forward\n",
    "- Core library: full integration with the language\n",
    "- Unified API for other frameworks\n",
    "- Basis for a [plethora of async libraries](https://github.com/timofurrer/awesome-asyncio)"
   ]
  },
  {
   "cell_type": "markdown",
   "metadata": {
    "deletable": true,
    "editable": true,
    "slideshow": {
     "slide_type": "subslide"
    }
   },
   "source": [
    "## The bad\n",
    "\n",
    "- All or nothing, all libraries need to be async\n",
    "- Requires a permanent shift of mindset across all codebase\n",
    "- Very basic API, sometimes confusing"
   ]
  },
  {
   "cell_type": "markdown",
   "metadata": {
    "deletable": true,
    "editable": true,
    "slideshow": {
     "slide_type": "slide"
    }
   },
   "source": [
    "<h1 style=\"text-align: center; margin-bottom: 3em;\">Try it out!</h1>\n",
    "\n",
    "<h2 style=\"text-align: center; margin-bottom: 3em;\">Thank you! &mdash; London Python &mdash; March 2017</h2>\n",
    "\n",
    "<h3 style=\"text-align: center\">Yeray Diaz</h3>\n",
    "<h3 style=\"text-align: center\">@yera_ee</h3>"
   ]
  }
 ],
 "metadata": {
  "celltoolbar": "Slideshow",
  "kernelspec": {
   "display_name": "Python 3",
   "language": "python",
   "name": "python3"
  },
  "language_info": {
   "codemirror_mode": {
    "name": "ipython",
    "version": 3
   },
   "file_extension": ".py",
   "mimetype": "text/x-python",
   "name": "python",
   "nbconvert_exporter": "python",
   "pygments_lexer": "ipython3",
   "version": "3.6.0"
  }
 },
 "nbformat": 4,
 "nbformat_minor": 2
}
