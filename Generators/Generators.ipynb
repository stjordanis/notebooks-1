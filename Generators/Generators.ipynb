{
 "cells": [
  {
   "cell_type": "markdown",
   "metadata": {},
   "source": [
    "# Generators"
   ]
  },
  {
   "cell_type": "markdown",
   "metadata": {},
   "source": [
    "## Standard generator\n",
    "\n",
    "Any function with the keyword `yield` is a generator. When exahusted generators raise `StopIteration`."
   ]
  },
  {
   "cell_type": "code",
   "execution_count": null,
   "metadata": {
    "collapsed": true
   },
   "outputs": [],
   "source": [
    "def generator():\n",
    "    for i in range(2):\n",
    "        yield i\n",
    "    print(\"Generator done! Raising StopIteration\")"
   ]
  },
  {
   "cell_type": "markdown",
   "metadata": {},
   "source": [
    "As with any iterator you call `next` on them to retrieve the next element"
   ]
  },
  {
   "cell_type": "code",
   "execution_count": 3,
   "metadata": {
    "collapsed": false
   },
   "outputs": [
    {
     "name": "stdout",
     "output_type": "stream",
     "text": [
      "0\n",
      "1\n",
      "Generator done! Raising StopIteration\n",
      "Caught StopIteration, loops do this automatically: \n"
     ]
    }
   ],
   "source": [
    "my_gen = generator()\n",
    "print(next(my_gen))\n",
    "print(next(my_gen))\n",
    "try:\n",
    "    print(next(my_gen))\n",
    "except StopIteration as e:\n",
    "    print(\"Caught StopIteration, loops do this automatically: {}\".format(e))"
   ]
  },
  {
   "cell_type": "markdown",
   "metadata": {},
   "source": [
    "## Generators with input\n",
    "\n",
    "You can pass values to a generators, you need to initialise it first with `next` and then use the `send` method"
   ]
  },
  {
   "cell_type": "code",
   "execution_count": 4,
   "metadata": {
    "collapsed": true
   },
   "outputs": [],
   "source": [
    "def generator_with_input():\n",
    "    i = yield\n",
    "    for j in range(5):\n",
    "        yield i * j\n",
    "    print(\"Generator done! Raising StopIteration\")"
   ]
  },
  {
   "cell_type": "code",
   "execution_count": 5,
   "metadata": {
    "collapsed": false
   },
   "outputs": [
    {
     "name": "stdout",
     "output_type": "stream",
     "text": [
      "For loop interating on the generator, should not raise StopIteration\n",
      "3\n",
      "6\n",
      "9\n",
      "12\n",
      "Generator done! Raising StopIteration\n"
     ]
    }
   ],
   "source": [
    "my_gen = generator_with_input()\n",
    "next(my_gen)\n",
    "my_gen.send(3)\n",
    "print(\"For loop interating on the generator, should not raise StopIteration\")\n",
    "for i in my_gen:\n",
    "    print(i)"
   ]
  },
  {
   "cell_type": "markdown",
   "metadata": {},
   "source": [
    "## Generators can yield from other generators\n",
    "\n",
    "Using `yield from`"
   ]
  },
  {
   "cell_type": "code",
   "execution_count": 6,
   "metadata": {
    "collapsed": true
   },
   "outputs": [],
   "source": [
    "def parent_generator():\n",
    "    yield from generator()\n",
    "    for i in range(2, 4):\n",
    "        yield i"
   ]
  },
  {
   "cell_type": "code",
   "execution_count": 7,
   "metadata": {
    "collapsed": false
   },
   "outputs": [
    {
     "name": "stdout",
     "output_type": "stream",
     "text": [
      "For loop interating on the generator\n",
      "Yields all results from `generator` first and then its own results\n",
      "0\n",
      "1\n",
      "Generator done! Raising StopIteration\n",
      "2\n",
      "3\n"
     ]
    }
   ],
   "source": [
    "my_gen = parent_generator()\n",
    "print(\"For loop interating on the generator\")\n",
    "print(\"Yields all results from `generator` first and then its own results\")\n",
    "for i in my_gen:\n",
    "    print(i)"
   ]
  },
  {
   "cell_type": "markdown",
   "metadata": {},
   "source": [
    "Notice this was transparent to the `for` loop, it behaved as it were a single generator producing values."
   ]
  }
 ],
 "metadata": {
  "kernelspec": {
   "display_name": "Python 3",
   "language": "python",
   "name": "python3"
  },
  "language_info": {
   "codemirror_mode": {
    "name": "ipython",
    "version": 3
   },
   "file_extension": ".py",
   "mimetype": "text/x-python",
   "name": "python",
   "nbconvert_exporter": "python",
   "pygments_lexer": "ipython3",
   "version": "3.5.2"
  }
 },
 "nbformat": 4,
 "nbformat_minor": 1
}
