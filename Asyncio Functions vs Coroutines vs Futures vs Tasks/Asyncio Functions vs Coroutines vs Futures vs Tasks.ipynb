{
 "cells": [
  {
   "cell_type": "markdown",
   "metadata": {},
   "source": [
    "# Asyncio: Functions vs Coroutines vs Futures vs Tasks"
   ]
  },
  {
   "cell_type": "markdown",
   "metadata": {},
   "source": [
    "Coroutines are just functions:"
   ]
  },
  {
   "cell_type": "code",
   "execution_count": 1,
   "metadata": {
    "collapsed": false
   },
   "outputs": [
    {
     "name": "stdout",
     "output_type": "stream",
     "text": [
      "<class 'function'> vs. <class 'function'>\n"
     ]
    }
   ],
   "source": [
    "import asyncio\n",
    "\n",
    "\n",
    "def callback(f):\n",
    "    print(\"Callback: {}\".format(f.result()))\n",
    "\n",
    "\n",
    "async def coro():\n",
    "    print(\"Executing coroutine\")\n",
    "    await asyncio.sleep(0.25)\n",
    "    return \"Done executing coroutine\"\n",
    "\n",
    "print(\"{} vs. {}\".format(type(callback), type(coro)))"
   ]
  },
  {
   "cell_type": "markdown",
   "metadata": {},
   "source": [
    "Invoking a coroutine produces a coroutine object"
   ]
  },
  {
   "cell_type": "code",
   "execution_count": 2,
   "metadata": {
    "collapsed": false
   },
   "outputs": [
    {
     "name": "stdout",
     "output_type": "stream",
     "text": [
      "<coroutine object coro at 0x10971ee08>\n"
     ]
    }
   ],
   "source": [
    "coroutine = coro()\n",
    "print(coroutine)"
   ]
  },
  {
   "cell_type": "markdown",
   "metadata": {},
   "source": [
    "The ioloops's `ensure_future` schedules the coroutine object and wraps it in a `Task`, a subclass of `Future`"
   ]
  },
  {
   "cell_type": "code",
   "execution_count": 3,
   "metadata": {
    "collapsed": false
   },
   "outputs": [
    {
     "name": "stdout",
     "output_type": "stream",
     "text": [
      "<Task pending coro=<coro() running at <ipython-input-1-057af4a33bb6>:8>>\n"
     ]
    }
   ],
   "source": [
    "task = asyncio.ensure_future(coroutine)\n",
    "print(task)"
   ]
  },
  {
   "cell_type": "markdown",
   "metadata": {},
   "source": [
    "You can add callbacks to Task objects"
   ]
  },
  {
   "cell_type": "code",
   "execution_count": 4,
   "metadata": {
    "collapsed": true
   },
   "outputs": [],
   "source": [
    "task.add_done_callback(callback)"
   ]
  },
  {
   "cell_type": "markdown",
   "metadata": {},
   "source": [
    "`ioloop.run_until_complete` will start the loop and run the task, closing the loop when it's done"
   ]
  },
  {
   "cell_type": "code",
   "execution_count": 6,
   "metadata": {
    "collapsed": false
   },
   "outputs": [
    {
     "name": "stdout",
     "output_type": "stream",
     "text": [
      "Executing coroutine\n",
      "Callback: Done executing coroutine\n",
      "Returned value is: Done executing coroutine\n"
     ]
    }
   ],
   "source": [
    "loop = asyncio.get_event_loop()\n",
    "print(\"Returned value is: \" + loop.run_until_complete(task))"
   ]
  },
  {
   "cell_type": "markdown",
   "metadata": {},
   "source": [
    "Notice the callback was invoked first"
   ]
  }
 ],
 "metadata": {
  "kernelspec": {
   "display_name": "Python 3",
   "language": "python",
   "name": "python3"
  },
  "language_info": {
   "codemirror_mode": {
    "name": "ipython",
    "version": 3
   },
   "file_extension": ".py",
   "mimetype": "text/x-python",
   "name": "python",
   "nbconvert_exporter": "python",
   "pygments_lexer": "ipython3",
   "version": "3.5.2"
  }
 },
 "nbformat": 4,
 "nbformat_minor": 1
}
